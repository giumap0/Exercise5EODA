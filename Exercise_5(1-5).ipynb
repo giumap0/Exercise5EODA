{
 "cells": [
  {
   "cell_type": "markdown",
   "metadata": {},
   "source": [
    "## Exercise 05 – EO image data processing and retrieval"
   ]
  },
  {
   "cell_type": "code",
   "execution_count": 8,
   "metadata": {},
   "outputs": [],
   "source": [
    "#libraries needed\n",
    "import numpy as np  \n",
    "import matplotlib.pyplot as plt  \n",
    "import pandas as pd\n",
    "import seaborn as sns\n",
    "import sklearn\n",
    "from sklearn.cluster import KMeans\n",
    "from sklearn.metrics import confusion_matrix\n",
    "from sklearn.metrics import cohen_kappa_score\n",
    "from sklearn import decomposition\n",
    "from sklearn.preprocessing import scale\n",
    "from sklearn.decomposition import PCA\n",
    "from sklearn.metrics import cohen_kappa_score\n",
    "from sklearn.linear_model import LinearRegression\n",
    "#import seaborn as sb\n",
    "from matplotlib.pyplot import imshow\n",
    "import pprint as pp\n",
    "from collections import defaultdict\n",
    "from sklearn.metrics import confusion_matrix,cohen_kappa_score,precision_score\n",
    "from sklearn.preprocessing import StandardScaler\n",
    "\n"
   ]
  },
  {
   "cell_type": "markdown",
   "metadata": {},
   "source": [
    "### 1. Plot the acquired spectral reflectance vs and spectral radiance and possibly superimpose the class label to each observation, explaining why you expect these classes can represent particle cloud and sea surface radiative signature."
   ]
  },
  {
   "cell_type": "markdown",
   "metadata": {},
   "source": [
    "As we can see in the plot, we expect these classes representing parcicle cloud and sea surface radiative signature since the ones with higher values of the spectral reflectance are the ones associated to the class of cloud particles.\n",
    "This is because clouds are much brighter than clear scene and reflectance component from the cloud is more variable compared to reflectance component from clear pixels, as we could get from the sea surface"
   ]
  },
  {
   "cell_type": "code",
   "execution_count": 9,
   "metadata": {},
   "outputs": [
    {
     "data": {
      "text/html": [
       "<div>\n",
       "<style scoped>\n",
       "    .dataframe tbody tr th:only-of-type {\n",
       "        vertical-align: middle;\n",
       "    }\n",
       "\n",
       "    .dataframe tbody tr th {\n",
       "        vertical-align: top;\n",
       "    }\n",
       "\n",
       "    .dataframe thead th {\n",
       "        text-align: right;\n",
       "    }\n",
       "</style>\n",
       "<table border=\"1\" class=\"dataframe\">\n",
       "  <thead>\n",
       "    <tr style=\"text-align: right;\">\n",
       "      <th></th>\n",
       "      <th>Spectral_Radiance</th>\n",
       "      <th>Spectral_Reflectance</th>\n",
       "      <th>class</th>\n",
       "      <th>Class_label</th>\n",
       "      <th>Temperature [K]</th>\n",
       "    </tr>\n",
       "  </thead>\n",
       "  <tbody>\n",
       "    <tr>\n",
       "      <th>0</th>\n",
       "      <td>2.068526</td>\n",
       "      <td>0.579204</td>\n",
       "      <td>1.0</td>\n",
       "      <td>cloud particles</td>\n",
       "      <td>277.39425</td>\n",
       "    </tr>\n",
       "    <tr>\n",
       "      <th>1</th>\n",
       "      <td>1.588779</td>\n",
       "      <td>0.725697</td>\n",
       "      <td>1.0</td>\n",
       "      <td>cloud particles</td>\n",
       "      <td>266.11364</td>\n",
       "    </tr>\n",
       "    <tr>\n",
       "      <th>2</th>\n",
       "      <td>2.308740</td>\n",
       "      <td>0.838262</td>\n",
       "      <td>1.0</td>\n",
       "      <td>cloud particles</td>\n",
       "      <td>277.84215</td>\n",
       "    </tr>\n",
       "    <tr>\n",
       "      <th>3</th>\n",
       "      <td>4.651697</td>\n",
       "      <td>0.338762</td>\n",
       "      <td>2.0</td>\n",
       "      <td>sea surface</td>\n",
       "      <td>297.25935</td>\n",
       "    </tr>\n",
       "    <tr>\n",
       "      <th>4</th>\n",
       "      <td>3.197330</td>\n",
       "      <td>0.246227</td>\n",
       "      <td>2.0</td>\n",
       "      <td>sea surface</td>\n",
       "      <td>282.75330</td>\n",
       "    </tr>\n",
       "  </tbody>\n",
       "</table>\n",
       "</div>"
      ],
      "text/plain": [
       "   Spectral_Radiance  Spectral_Reflectance  class      Class_label  \\\n",
       "0           2.068526              0.579204    1.0  cloud particles   \n",
       "1           1.588779              0.725697    1.0  cloud particles   \n",
       "2           2.308740              0.838262    1.0  cloud particles   \n",
       "3           4.651697              0.338762    2.0      sea surface   \n",
       "4           3.197330              0.246227    2.0      sea surface   \n",
       "\n",
       "   Temperature [K]  \n",
       "0        277.39425  \n",
       "1        266.11364  \n",
       "2        277.84215  \n",
       "3        297.25935  \n",
       "4        282.75330  "
      ]
     },
     "execution_count": 9,
     "metadata": {},
     "output_type": "execute_result"
    }
   ],
   "source": [
    "doc_files = [\"Image_ch1_spectralRadiance.dat\",\n",
    "             \"Image_ch2_spectralReflectance.dat\",\n",
    "             \"Image_class_insituLabels.dat\",\n",
    "             \"Image_parameter_insituMeasurements.dat\"]\n",
    "\n",
    "doc_names = [\"Spectral_Radiance\",\n",
    "             \"Spectral_Reflectance\",\n",
    "             \"class\",\n",
    "             \"Temperature [K]\"]\n",
    "\n",
    "def import_files(files,file_names):\n",
    "    results = dict() # dict where to store all the files\n",
    "    for e,files in enumerate(files):\n",
    "        result = list()\n",
    "        file = open(files, 'r', ) # open the file\n",
    "        lines = file.readlines()\n",
    "        for x in lines:\n",
    "            result.append([float(measure.strip()) for measure in x.split('\\t')[:-1]])\n",
    "\n",
    "        results[file_names[e]] = [v for r in result for v in r] #unpack the list of lists\n",
    "            \n",
    "        if file_names[e] == 'class':\n",
    "            results['Class_label'] = ['sea surface' if int(value)==2 \n",
    "              else'cloud particles'\n",
    "                 for value in results['class']] # add class label\n",
    "    file.close()\n",
    "    return results\n",
    "\n",
    "dictionary = import_files(doc_files,doc_names)\n",
    "df_images = pd.DataFrame.from_dict(dictionary)\n",
    "df_images.head()"
   ]
  },
  {
   "cell_type": "code",
   "execution_count": 10,
   "metadata": {},
   "outputs": [
    {
     "ename": "NameError",
     "evalue": "name 'ax' is not defined",
     "output_type": "error",
     "traceback": [
      "\u001b[1;31m---------------------------------------------------------------------------\u001b[0m",
      "\u001b[1;31mNameError\u001b[0m                                 Traceback (most recent call last)",
      "\u001b[1;32m<ipython-input-10-5cad9a6263a8>\u001b[0m in \u001b[0;36m<module>\u001b[1;34m()\u001b[0m\n\u001b[0;32m      2\u001b[0m sns.relplot(data=df_images,x=\"Spectral_Radiance\", y=\"Spectral_Reflectance\", hue='Class_label',\n\u001b[0;32m      3\u001b[0m              alpha=1, palette='cubehelix')\n\u001b[1;32m----> 4\u001b[1;33m \u001b[0max\u001b[0m\u001b[1;33m.\u001b[0m\u001b[0mxaxis\u001b[0m\u001b[1;33m.\u001b[0m\u001b[0mlabel\u001b[0m\u001b[1;33m.\u001b[0m\u001b[0mset_color\u001b[0m\u001b[1;33m(\u001b[0m\u001b[1;34m'k'\u001b[0m\u001b[1;33m)\u001b[0m\u001b[1;33m\u001b[0m\u001b[0m\n\u001b[0m\u001b[0;32m      5\u001b[0m \u001b[0max\u001b[0m\u001b[1;33m.\u001b[0m\u001b[0mxaxis\u001b[0m\u001b[1;33m.\u001b[0m\u001b[0mlabel\u001b[0m\u001b[1;33m.\u001b[0m\u001b[0mset_size\u001b[0m\u001b[1;33m(\u001b[0m\u001b[1;36m20\u001b[0m\u001b[1;33m)\u001b[0m\u001b[1;33m\u001b[0m\u001b[0m\n\u001b[0;32m      6\u001b[0m \u001b[0max\u001b[0m\u001b[1;33m.\u001b[0m\u001b[0myaxis\u001b[0m\u001b[1;33m.\u001b[0m\u001b[0mlabel\u001b[0m\u001b[1;33m.\u001b[0m\u001b[0mset_size\u001b[0m\u001b[1;33m(\u001b[0m\u001b[1;36m20\u001b[0m\u001b[1;33m)\u001b[0m\u001b[1;33m\u001b[0m\u001b[0m\n",
      "\u001b[1;31mNameError\u001b[0m: name 'ax' is not defined"
     ]
    },
    {
     "data": {
      "image/png": "[encoded data removed]",
      "text/plain": [
       "<Figure size 460.375x360 with 1 Axes>"
      ]
     },
     "metadata": {},
     "output_type": "display_data"
    }
   ],
   "source": [
    "sns.set_style(\"white\")\n",
    "sns.relplot(data=df_images,x=\"Spectral_Radiance\", y=\"Spectral_Reflectance\", hue='Class_label',\n",
    "             alpha=1, palette='cubehelix')\n",
    "ax.xaxis.label.set_color('k')\n",
    "ax.xaxis.label.set_size(20)\n",
    "ax.yaxis.label.set_size(20)\n",
    "ax.set_title('Reflectance VS Radiance', color='black', fontsize=30, pad=10)"
   ]
  },
  {
   "cell_type": "markdown",
   "metadata": {},
   "source": [
    "### 2. Perform a Lloyd’s k-means unsupervised classification and, by using the in-situ class labels, compute the confusion (or contingency) matrix (CM)."
   ]
  },
  {
   "cell_type": "code",
   "execution_count": 11,
   "metadata": {},
   "outputs": [
    {
     "name": "stdout",
     "output_type": "stream",
     "text": [
      "<class 'pandas.core.frame.DataFrame'>\n"
     ]
    },
    {
     "data": {
      "text/html": [
       "<div>\n",
       "<style scoped>\n",
       "    .dataframe tbody tr th:only-of-type {\n",
       "        vertical-align: middle;\n",
       "    }\n",
       "\n",
       "    .dataframe tbody tr th {\n",
       "        vertical-align: top;\n",
       "    }\n",
       "\n",
       "    .dataframe thead th {\n",
       "        text-align: right;\n",
       "    }\n",
       "</style>\n",
       "<table border=\"1\" class=\"dataframe\">\n",
       "  <thead>\n",
       "    <tr style=\"text-align: right;\">\n",
       "      <th></th>\n",
       "      <th>Spectral_Radiance</th>\n",
       "      <th>Spectral_Reflectance</th>\n",
       "    </tr>\n",
       "  </thead>\n",
       "  <tbody>\n",
       "    <tr>\n",
       "      <th>0</th>\n",
       "      <td>2.068526</td>\n",
       "      <td>0.579204</td>\n",
       "    </tr>\n",
       "    <tr>\n",
       "      <th>1</th>\n",
       "      <td>1.588779</td>\n",
       "      <td>0.725697</td>\n",
       "    </tr>\n",
       "    <tr>\n",
       "      <th>2</th>\n",
       "      <td>2.308740</td>\n",
       "      <td>0.838262</td>\n",
       "    </tr>\n",
       "    <tr>\n",
       "      <th>3</th>\n",
       "      <td>4.651697</td>\n",
       "      <td>0.338762</td>\n",
       "    </tr>\n",
       "    <tr>\n",
       "      <th>4</th>\n",
       "      <td>3.197330</td>\n",
       "      <td>0.246227</td>\n",
       "    </tr>\n",
       "  </tbody>\n",
       "</table>\n",
       "</div>"
      ],
      "text/plain": [
       "   Spectral_Radiance  Spectral_Reflectance\n",
       "0           2.068526              0.579204\n",
       "1           1.588779              0.725697\n",
       "2           2.308740              0.838262\n",
       "3           4.651697              0.338762\n",
       "4           3.197330              0.246227"
      ]
     },
     "execution_count": 11,
     "metadata": {},
     "output_type": "execute_result"
    }
   ],
   "source": [
    "#create a new dataframe with the first two columns used for the cluster feature\n",
    "X=df_images.iloc[:, lambda df_images: [0, 1]]\n",
    "print(type(X))\n",
    "X.head()"
   ]
  },
  {
   "cell_type": "code",
   "execution_count": 12,
   "metadata": {},
   "outputs": [
    {
     "data": {
      "text/plain": [
       "array([0, 0, 0, 1, 1, 1, 1, 0, 0, 1, 1, 1, 0, 0, 0, 1, 1, 0, 0, 0, 0, 1,\n",
       "       1, 1, 1, 0, 0, 1, 1, 1, 0, 0, 0, 1, 1, 0])"
      ]
     },
     "execution_count": 12,
     "metadata": {},
     "output_type": "execute_result"
    }
   ],
   "source": [
    "#performing the Lloyd's k-means unsupervised classicifaction\n",
    "kmeans = KMeans(n_clusters=2)\n",
    "kmeans.fit(X)\n",
    "y_kmeans = kmeans.predict(X)\n",
    "y_kmeans"
   ]
  },
  {
   "cell_type": "code",
   "execution_count": 13,
   "metadata": {},
   "outputs": [
    {
     "name": "stderr",
     "output_type": "stream",
     "text": [
      "C:\\Users\\Giumas\\Anaconda3\\lib\\site-packages\\ipykernel_launcher.py:16: FutureWarning: Method .as_matrix will be removed in a future version. Use .values instead.\n",
      "  app.launch_new_instance()\n"
     ]
    },
    {
     "data": {
      "text/plain": [
       "[Text(92.68,0.5,'Predicted')]"
      ]
     },
     "execution_count": 13,
     "metadata": {},
     "output_type": "execute_result"
    },
    {
     "data": {
      "image/png": "[encoded data removed]",
      "text/plain": [
       "<Figure size 432x288 with 1 Axes>"
      ]
     },
     "metadata": {},
     "output_type": "display_data"
    }
   ],
   "source": [
    "#colonna dataframe iniziale, parte vera, poi una nuova classe dell'algoritmo e plottare . devono essere stessa cosa , stessi valori\n",
    "#computing the confusion matrix\n",
    "#Defining a new dataframe with a new column\n",
    "df_new = pd.DataFrame.from_dict(dictionary)\n",
    "df_new.head()\n",
    "# create def for category to number 0/1\n",
    "def tran_cat_to_num(df):\n",
    "    if df['Class_label'] == 'cloud particles':\n",
    "        return 0\n",
    "    else:\n",
    "        return 1\n",
    "##\n",
    "df_new['y_true']=df_new.apply(tran_cat_to_num,axis=1)\n",
    "#df_new\n",
    "#y=df_new.iloc[:, lambda df_new: [5]]\n",
    "y=df_new.iloc[:,[5]].as_matrix()\n",
    "y\n",
    "#y= df_new[[\"y_true\"]].to_numpy()\n",
    "y_true=y\n",
    "y_pred=y_kmeans\n",
    "\n",
    "cm=confusion_matrix(y_true, y_pred)\n",
    "\n",
    "imshow(np.asarray(cm))\n",
    "\n",
    "\n",
    "\n",
    "ax = sns.heatmap(cm, cmap= 'Pastel1', annot=True,annot_kws={\"size\": 20},cbar=False)\n",
    "ax.set_xticklabels(['sea surface','particle clouds'],size=15)\n",
    "ax.set_yticklabels(['sea surface','particle clouds'],va='center',size=15)\n",
    "\n",
    "ax.set(xlabel='Real Class')\n",
    "ax.set(ylabel='Predicted')"
   ]
  },
  {
   "cell_type": "markdown",
   "metadata": {},
   "source": [
    "### 3. From the confusion matrix, compute the probability of detection (POD, sensitivity or true positive), false alarm rate (FAR, false negative) and Cohen’s index . POD= …, FAR=…Coehn=…\n"
   ]
  },
  {
   "cell_type": "code",
   "execution_count": 14,
   "metadata": {},
   "outputs": [
    {
     "name": "stdout",
     "output_type": "stream",
     "text": [
      "Cohen kappa score: 0.7777777777777778\n",
      "POD (or sensitivity): 0.8888888888888888\n",
      "FAR (or False negative rate): 0.1111111111111111\n"
     ]
    }
   ],
   "source": [
    "#defining the FALSE NEGATIVE AND TRUE POSITIVE\n",
    "\n",
    "FN = cm.sum(axis=1) - np.diag(cm)\n",
    "TP = np.diag(cm)\n",
    "\n",
    "# Sensitivity, hit rate, recall, or true positive rate\n",
    "TPR = TP/(TP+FN)\n",
    "\n",
    "# False negative rate\n",
    "FNR = FN/(TP+FN)\n",
    "\n",
    "#cohen index\n",
    "\n",
    "cohen_kappa_score(y_true, y_pred)\n",
    "\n",
    "print(\n",
    "    \"Cohen kappa score: \" +str(cohen_kappa_score(y_true, y_pred)),\n",
    "    \"POD (or sensitivity): \" + str(TPR.flat[0]),\n",
    "    \"FAR (or False negative rate): \" + str(FNR.flat[0]),\n",
    "    sep='\\n'\n",
    ")   "
   ]
  },
  {
   "cell_type": "markdown",
   "metadata": {},
   "source": [
    "### 4. Determine how much variance is explained by the first principal component of the acquired channels?"
   ]
  },
  {
   "cell_type": "code",
   "execution_count": 17,
   "metadata": {},
   "outputs": [
    {
     "name": "stdout",
     "output_type": "stream",
     "text": [
      "Explained variance of PC1: 0.82\n",
      "Explained variance of PC2: 0.18\n"
     ]
    }
   ],
   "source": [
    "covar_matrix  = PCA(n_components=2) \n",
    "scaled = StandardScaler().fit_transform(df_images.iloc[:,:2]) \n",
    "pca_transformation = covar_matrix.fit_transform(scaled)\n",
    "\n",
    "print(\"Explained variance of PC1: \"+str(round(covar_matrix.explained_variance_ratio_[0],2)),\n",
    "      \"Explained variance of PC2: \"+str(round(covar_matrix.explained_variance_ratio_[1],2)),\n",
    "      sep='\\n'\n",
    "     )"
   ]
  },
  {
   "cell_type": "markdown",
   "metadata": {},
   "source": [
    "### 5. By using the first principal component, re-perform a Lloyd’s k-means unsupervised classification and then compute the confusion matrix (CM) and Cohen’s index .\n"
   ]
  },
  {
   "cell_type": "code",
   "execution_count": 18,
   "metadata": {},
   "outputs": [],
   "source": [
    "df_pca = pd.DataFrame(pca_transformation, columns=['PC1','PC2'])\n",
    "df_pca['Class_label']=df_images['Class_label']"
   ]
  },
  {
   "cell_type": "code",
   "execution_count": 19,
   "metadata": {},
   "outputs": [
    {
     "data": {
      "text/html": [
       "<div>\n",
       "<style scoped>\n",
       "    .dataframe tbody tr th:only-of-type {\n",
       "        vertical-align: middle;\n",
       "    }\n",
       "\n",
       "    .dataframe tbody tr th {\n",
       "        vertical-align: top;\n",
       "    }\n",
       "\n",
       "    .dataframe thead th {\n",
       "        text-align: right;\n",
       "    }\n",
       "</style>\n",
       "<table border=\"1\" class=\"dataframe\">\n",
       "  <thead>\n",
       "    <tr style=\"text-align: right;\">\n",
       "      <th></th>\n",
       "      <th>PC1</th>\n",
       "      <th>PC2</th>\n",
       "      <th>Class_label</th>\n",
       "    </tr>\n",
       "  </thead>\n",
       "  <tbody>\n",
       "    <tr>\n",
       "      <th>0</th>\n",
       "      <td>0.647820</td>\n",
       "      <td>-0.288520</td>\n",
       "      <td>cloud particles</td>\n",
       "    </tr>\n",
       "    <tr>\n",
       "      <th>1</th>\n",
       "      <td>1.430294</td>\n",
       "      <td>-0.099794</td>\n",
       "      <td>cloud particles</td>\n",
       "    </tr>\n",
       "    <tr>\n",
       "      <th>2</th>\n",
       "      <td>1.357908</td>\n",
       "      <td>0.718862</td>\n",
       "      <td>cloud particles</td>\n",
       "    </tr>\n",
       "    <tr>\n",
       "      <th>3</th>\n",
       "      <td>-1.747703</td>\n",
       "      <td>0.512950</td>\n",
       "      <td>sea surface</td>\n",
       "    </tr>\n",
       "    <tr>\n",
       "      <th>4</th>\n",
       "      <td>-1.154464</td>\n",
       "      <td>-0.693770</td>\n",
       "      <td>sea surface</td>\n",
       "    </tr>\n",
       "  </tbody>\n",
       "</table>\n",
       "</div>"
      ],
      "text/plain": [
       "        PC1       PC2      Class_label\n",
       "0  0.647820 -0.288520  cloud particles\n",
       "1  1.430294 -0.099794  cloud particles\n",
       "2  1.357908  0.718862  cloud particles\n",
       "3 -1.747703  0.512950      sea surface\n",
       "4 -1.154464 -0.693770      sea surface"
      ]
     },
     "execution_count": 19,
     "metadata": {},
     "output_type": "execute_result"
    }
   ],
   "source": [
    "df_pca.head()"
   ]
  },
  {
   "cell_type": "code",
   "execution_count": 20,
   "metadata": {},
   "outputs": [],
   "source": [
    "X_p=df_pca.iloc[:, lambda df_pca: [0, 1]]"
   ]
  },
  {
   "cell_type": "code",
   "execution_count": 21,
   "metadata": {},
   "outputs": [
    {
     "data": {
      "text/html": [
       "<div>\n",
       "<style scoped>\n",
       "    .dataframe tbody tr th:only-of-type {\n",
       "        vertical-align: middle;\n",
       "    }\n",
       "\n",
       "    .dataframe tbody tr th {\n",
       "        vertical-align: top;\n",
       "    }\n",
       "\n",
       "    .dataframe thead th {\n",
       "        text-align: right;\n",
       "    }\n",
       "</style>\n",
       "<table border=\"1\" class=\"dataframe\">\n",
       "  <thead>\n",
       "    <tr style=\"text-align: right;\">\n",
       "      <th></th>\n",
       "      <th>PC1</th>\n",
       "      <th>PC2</th>\n",
       "    </tr>\n",
       "  </thead>\n",
       "  <tbody>\n",
       "    <tr>\n",
       "      <th>0</th>\n",
       "      <td>0.647820</td>\n",
       "      <td>-0.288520</td>\n",
       "    </tr>\n",
       "    <tr>\n",
       "      <th>1</th>\n",
       "      <td>1.430294</td>\n",
       "      <td>-0.099794</td>\n",
       "    </tr>\n",
       "    <tr>\n",
       "      <th>2</th>\n",
       "      <td>1.357908</td>\n",
       "      <td>0.718862</td>\n",
       "    </tr>\n",
       "    <tr>\n",
       "      <th>3</th>\n",
       "      <td>-1.747703</td>\n",
       "      <td>0.512950</td>\n",
       "    </tr>\n",
       "    <tr>\n",
       "      <th>4</th>\n",
       "      <td>-1.154464</td>\n",
       "      <td>-0.693770</td>\n",
       "    </tr>\n",
       "  </tbody>\n",
       "</table>\n",
       "</div>"
      ],
      "text/plain": [
       "        PC1       PC2\n",
       "0  0.647820 -0.288520\n",
       "1  1.430294 -0.099794\n",
       "2  1.357908  0.718862\n",
       "3 -1.747703  0.512950\n",
       "4 -1.154464 -0.693770"
      ]
     },
     "execution_count": 21,
     "metadata": {},
     "output_type": "execute_result"
    }
   ],
   "source": [
    "X_p.head()"
   ]
  },
  {
   "cell_type": "code",
   "execution_count": 22,
   "metadata": {},
   "outputs": [
    {
     "data": {
      "text/plain": [
       "array([1, 1, 1, 0, 0, 0, 1, 1, 1, 0, 0, 0, 1, 1, 1, 0, 0, 1, 1, 1, 1, 0,\n",
       "       0, 0, 1, 1, 1, 0, 0, 0, 1, 1, 1, 0, 0, 0])"
      ]
     },
     "execution_count": 22,
     "metadata": {},
     "output_type": "execute_result"
    }
   ],
   "source": [
    "kmeans = KMeans(n_clusters=2)\n",
    "kmeans.fit(X_p)\n",
    "y_kmeansp = kmeans.predict(X_p)\n",
    "y_kmeansp"
   ]
  },
  {
   "cell_type": "code",
   "execution_count": 23,
   "metadata": {},
   "outputs": [
    {
     "data": {
      "text/html": [
       "<div>\n",
       "<style scoped>\n",
       "    .dataframe tbody tr th:only-of-type {\n",
       "        vertical-align: middle;\n",
       "    }\n",
       "\n",
       "    .dataframe tbody tr th {\n",
       "        vertical-align: top;\n",
       "    }\n",
       "\n",
       "    .dataframe thead th {\n",
       "        text-align: right;\n",
       "    }\n",
       "</style>\n",
       "<table border=\"1\" class=\"dataframe\">\n",
       "  <thead>\n",
       "    <tr style=\"text-align: right;\">\n",
       "      <th></th>\n",
       "      <th>PC1</th>\n",
       "      <th>PC2</th>\n",
       "      <th>Class_label</th>\n",
       "    </tr>\n",
       "  </thead>\n",
       "  <tbody>\n",
       "    <tr>\n",
       "      <th>0</th>\n",
       "      <td>0.647820</td>\n",
       "      <td>-0.288520</td>\n",
       "      <td>cloud particles</td>\n",
       "    </tr>\n",
       "    <tr>\n",
       "      <th>1</th>\n",
       "      <td>1.430294</td>\n",
       "      <td>-0.099794</td>\n",
       "      <td>cloud particles</td>\n",
       "    </tr>\n",
       "    <tr>\n",
       "      <th>2</th>\n",
       "      <td>1.357908</td>\n",
       "      <td>0.718862</td>\n",
       "      <td>cloud particles</td>\n",
       "    </tr>\n",
       "    <tr>\n",
       "      <th>3</th>\n",
       "      <td>-1.747703</td>\n",
       "      <td>0.512950</td>\n",
       "      <td>sea surface</td>\n",
       "    </tr>\n",
       "    <tr>\n",
       "      <th>4</th>\n",
       "      <td>-1.154464</td>\n",
       "      <td>-0.693770</td>\n",
       "      <td>sea surface</td>\n",
       "    </tr>\n",
       "  </tbody>\n",
       "</table>\n",
       "</div>"
      ],
      "text/plain": [
       "        PC1       PC2      Class_label\n",
       "0  0.647820 -0.288520  cloud particles\n",
       "1  1.430294 -0.099794  cloud particles\n",
       "2  1.357908  0.718862  cloud particles\n",
       "3 -1.747703  0.512950      sea surface\n",
       "4 -1.154464 -0.693770      sea surface"
      ]
     },
     "execution_count": 23,
     "metadata": {},
     "output_type": "execute_result"
    }
   ],
   "source": [
    "df_pcanew = pd.DataFrame(pca_transformation, columns=['PC1','PC2'])\n",
    "df_pcanew['Class_label']=df_images['Class_label']\n",
    "df_pcanew.head()"
   ]
  },
  {
   "cell_type": "code",
   "execution_count": 24,
   "metadata": {},
   "outputs": [
    {
     "data": {
      "text/html": [
       "<div>\n",
       "<style scoped>\n",
       "    .dataframe tbody tr th:only-of-type {\n",
       "        vertical-align: middle;\n",
       "    }\n",
       "\n",
       "    .dataframe tbody tr th {\n",
       "        vertical-align: top;\n",
       "    }\n",
       "\n",
       "    .dataframe thead th {\n",
       "        text-align: right;\n",
       "    }\n",
       "</style>\n",
       "<table border=\"1\" class=\"dataframe\">\n",
       "  <thead>\n",
       "    <tr style=\"text-align: right;\">\n",
       "      <th></th>\n",
       "      <th>PC1</th>\n",
       "      <th>PC2</th>\n",
       "      <th>Class_label</th>\n",
       "      <th>y_pcatrue</th>\n",
       "    </tr>\n",
       "  </thead>\n",
       "  <tbody>\n",
       "    <tr>\n",
       "      <th>0</th>\n",
       "      <td>0.647820</td>\n",
       "      <td>-0.288520</td>\n",
       "      <td>cloud particles</td>\n",
       "      <td>0</td>\n",
       "    </tr>\n",
       "    <tr>\n",
       "      <th>1</th>\n",
       "      <td>1.430294</td>\n",
       "      <td>-0.099794</td>\n",
       "      <td>cloud particles</td>\n",
       "      <td>0</td>\n",
       "    </tr>\n",
       "    <tr>\n",
       "      <th>2</th>\n",
       "      <td>1.357908</td>\n",
       "      <td>0.718862</td>\n",
       "      <td>cloud particles</td>\n",
       "      <td>0</td>\n",
       "    </tr>\n",
       "    <tr>\n",
       "      <th>3</th>\n",
       "      <td>-1.747703</td>\n",
       "      <td>0.512950</td>\n",
       "      <td>sea surface</td>\n",
       "      <td>1</td>\n",
       "    </tr>\n",
       "    <tr>\n",
       "      <th>4</th>\n",
       "      <td>-1.154464</td>\n",
       "      <td>-0.693770</td>\n",
       "      <td>sea surface</td>\n",
       "      <td>1</td>\n",
       "    </tr>\n",
       "  </tbody>\n",
       "</table>\n",
       "</div>"
      ],
      "text/plain": [
       "        PC1       PC2      Class_label  y_pcatrue\n",
       "0  0.647820 -0.288520  cloud particles          0\n",
       "1  1.430294 -0.099794  cloud particles          0\n",
       "2  1.357908  0.718862  cloud particles          0\n",
       "3 -1.747703  0.512950      sea surface          1\n",
       "4 -1.154464 -0.693770      sea surface          1"
      ]
     },
     "execution_count": 24,
     "metadata": {},
     "output_type": "execute_result"
    }
   ],
   "source": [
    "df_pcanew['y_pcatrue']=df_pcanew.apply(tran_cat_to_num,axis=1)\n",
    "df_pcanew.head()"
   ]
  },
  {
   "cell_type": "code",
   "execution_count": 25,
   "metadata": {},
   "outputs": [
    {
     "name": "stderr",
     "output_type": "stream",
     "text": [
      "C:\\Users\\Giumas\\Anaconda3\\lib\\site-packages\\ipykernel_launcher.py:1: FutureWarning: Method .as_matrix will be removed in a future version. Use .values instead.\n",
      "  \"\"\"Entry point for launching an IPython kernel.\n"
     ]
    }
   ],
   "source": [
    "y_pca=df_pcanew.iloc[:,[3]].as_matrix()"
   ]
  },
  {
   "cell_type": "code",
   "execution_count": 26,
   "metadata": {},
   "outputs": [
    {
     "data": {
      "text/plain": [
       "array([[0],\n",
       "       [0],\n",
       "       [0],\n",
       "       [1],\n",
       "       [1],\n",
       "       [1],\n",
       "       [0],\n",
       "       [0],\n",
       "       [0],\n",
       "       [1],\n",
       "       [1],\n",
       "       [1],\n",
       "       [0],\n",
       "       [0],\n",
       "       [0],\n",
       "       [1],\n",
       "       [1],\n",
       "       [1],\n",
       "       [0],\n",
       "       [0],\n",
       "       [0],\n",
       "       [1],\n",
       "       [1],\n",
       "       [1],\n",
       "       [0],\n",
       "       [0],\n",
       "       [0],\n",
       "       [1],\n",
       "       [1],\n",
       "       [1],\n",
       "       [0],\n",
       "       [0],\n",
       "       [0],\n",
       "       [1],\n",
       "       [1],\n",
       "       [1]], dtype=int64)"
      ]
     },
     "execution_count": 26,
     "metadata": {},
     "output_type": "execute_result"
    }
   ],
   "source": [
    "y_pca"
   ]
  },
  {
   "cell_type": "code",
   "execution_count": 27,
   "metadata": {},
   "outputs": [
    {
     "data": {
      "text/plain": [
       "[Text(92.68,0.5,'Predicted')]"
      ]
     },
     "execution_count": 27,
     "metadata": {},
     "output_type": "execute_result"
    },
    {
     "data": {
      "image/png": "[encoded data removed]",
      "text/plain": [
       "<Figure size 432x288 with 1 Axes>"
      ]
     },
     "metadata": {},
     "output_type": "display_data"
    }
   ],
   "source": [
    "#y= df_new[[\"y_true\"]].to_numpy()\n",
    "y_true=y_pca\n",
    "y_pred=y_kmeansp\n",
    "\n",
    "cm=confusion_matrix(y_true, y_pred)\n",
    "\n",
    "\n",
    "imshow(np.asarray(cm))\n",
    "\n",
    "cm\n",
    "\n",
    "ax = sns.heatmap(cm, cmap= 'Pastel1', annot=True,annot_kws={\"size\": 20},cbar=False)\n",
    "ax.set_xticklabels(['sea surface','particle clouds'],size=15)\n",
    "ax.set_yticklabels(['sea surface','particle clouds'],va='center',size=15)\n",
    "\n",
    "ax.set(xlabel='Real Class')\n",
    "ax.set(ylabel='Predicted')"
   ]
  },
  {
   "cell_type": "code",
   "execution_count": 28,
   "metadata": {},
   "outputs": [
    {
     "name": "stdout",
     "output_type": "stream",
     "text": [
      "Cohen kappa score: -0.9444444444444444\n"
     ]
    }
   ],
   "source": [
    "print(\n",
    "    \"Cohen kappa score: \" +str(cohen_kappa_score(y_true, y_pred))\n",
    ")"
   ]
  }
 ],
 "metadata": {
  "kernelspec": {
   "display_name": "Python 3",
   "language": "python",
   "name": "python3"
  },
  "language_info": {
   "codemirror_mode": {
    "name": "ipython",
    "version": 3
   },
   "file_extension": ".py",
   "mimetype": "text/x-python",
   "name": "python",
   "nbconvert_exporter": "python",
   "pygments_lexer": "ipython3",
   "version": "3.7.0"
  }
 },
 "nbformat": 4,
 "nbformat_minor": 2
}
