{
  "nbformat": 4,
  "nbformat_minor": 0,
  "metadata": {
    "colab": {
      "name": "exercise 05 (6-8)",
      "provenance": [],
      "collapsed_sections": []
    },
    "kernelspec": {
      "name": "python3",
      "display_name": "Python 3"
    }
  },
  "cells": [
    {
      "cell_type": "markdown",
      "metadata": {
        "id": "sCEwOoeEdKWw",
        "colab_type": "text"
      },
      "source": [
        "### 6. Apply a (running) average 3x3 numerical filter to both channel-1 and channel-2 images using a zero-padding technique and then display smoothed images comparing them with the original ones.\n"
      ]
    },
    {
      "cell_type": "code",
      "metadata": {
        "id": "iwOl0Z9L4u7K",
        "colab_type": "code",
        "colab": {}
      },
      "source": [
        "import numpy as np\n",
        "import cv2\n",
        "import seaborn as sns\n",
        "import matplotlib.pyplot as plt\n",
        "import pandas as pd\n",
        "import sklearn\n",
        "from sklearn.cluster import KMeans\n",
        "from sklearn.metrics import confusion_matrix\n",
        "from sklearn.metrics import cohen_kappa_score\n",
        "from sklearn import decomposition\n",
        "from sklearn.preprocessing import scale\n",
        "from sklearn.decomposition import PCA\n",
        "from sklearn.metrics import cohen_kappa_score\n",
        "from sklearn.linear_model import LinearRegression\n",
        "#import seaborn as sb\n",
        "from matplotlib.pyplot import imshow\n",
        "import pprint as pp\n",
        "from collections import defaultdict\n",
        "from sklearn.metrics import confusion_matrix,cohen_kappa_score,precision_score\n",
        "from sklearn.preprocessing import StandardScaler"
      ],
      "execution_count": 0,
      "outputs": []
    },
    {
      "cell_type": "code",
      "metadata": {
        "id": "esHsLr-W4zdA",
        "colab_type": "code",
        "colab": {}
      },
      "source": [
        "def return_image(filename):\n",
        "    result = list()\n",
        "    file = open(filename, 'r', )\n",
        "    lines = file.readlines()\n",
        "    for x in lines:\n",
        "        result.append([measure.strip() for measure in x.split('\\t')[:-1]])\n",
        "    \n",
        "    return(np.asarray(result,dtype=np.float32))"
      ],
      "execution_count": 0,
      "outputs": []
    },
    {
      "cell_type": "code",
      "metadata": {
        "id": "qb4fw-4SZvN_",
        "colab_type": "code",
        "colab": {}
      },
      "source": [
        "CH1 = return_image(\"Image_ch1_spectralRadiance.dat\")\n",
        "CH2 = return_image(\"Image_ch2_spectralReflectance.dat\")"
      ],
      "execution_count": 0,
      "outputs": []
    },
    {
      "cell_type": "code",
      "metadata": {
        "id": "Obmo8Is7ZvnD",
        "colab_type": "code",
        "colab": {}
      },
      "source": [
        "def smoothing_image(array):\n",
        "\n",
        "    # padding the array with 0 values margins\n",
        "    ar_pad = np.pad(array, [(1, 1), (1, 1)], mode='constant', constant_values=0)\n",
        "    #defining the kernel 3x3 running window\n",
        "    kernel = np.ones((3,3),np.float32)/9   \n",
        "    # filtering\n",
        "    sm_img = cv2.filter2D(ar_pad,-1,kernel)[1:-1,1:-1]  \n",
        "    # [1:-1,1:-1]  to slice the matrix in order to un-pad the array\n",
        "    return(sm_img)"
      ],
      "execution_count": 0,
      "outputs": []
    },
    {
      "cell_type": "code",
      "metadata": {
        "id": "yMBEoGvuZvpj",
        "colab_type": "code",
        "colab": {}
      },
      "source": [
        "def plot_images(array,sm_img,channel_number):\n",
        "        fig = plt.figure(figsize=(18,6))\n",
        "    \n",
        "        ax1 = fig.add_subplot(121) # original image\n",
        "        ax2 = fig.add_subplot(122) # smoothed image\n",
        "        \n",
        "        ax1 = sns.heatmap(array, cmap= 'jet', annot=False,cbar=True,ax=ax1) \n",
        "        ax2 = sns.heatmap(sm_img, cmap= 'jet', annot=False,cbar=True,ax=ax2)\n",
        "                \n",
        "        for ax in [ax1,ax2]:\n",
        "            ax.set(xlabel='x coordinate') \n",
        "            ax.set(ylabel='y coordinate') \n",
        "            ax.xaxis.label.set_size(20) \n",
        "            ax.yaxis.label.set_size(20) \n",
        "        \n",
        "        ax1.set_title('Original input CH'+str(channel_number), color='black', fontsize=30,pad=15)\n",
        "        ax2.set_title('Smoothed input CH'+str(channel_number), color='black', fontsize=30,pad=15) \n",
        "        \n",
        "        plt.show()"
      ],
      "execution_count": 0,
      "outputs": []
    },
    {
      "cell_type": "code",
      "metadata": {
        "id": "uNTkbB28Zvr3",
        "colab_type": "code",
        "colab": {}
      },
      "source": [
        "CH1_smoothed = smoothing_image(CH1)\n",
        "CH2_smoothed = smoothing_image(CH2)"
      ],
      "execution_count": 0,
      "outputs": []
    },
    {
      "cell_type": "code",
      "metadata": {
        "id": "si4ksxCMavEE",
        "colab_type": "code",
        "colab": {
          "base_uri": "https://localhost:8080/",
          "height": 435
        },
        "outputId": "a8d8d9a2-a81f-4951-8b44-24f1cabf422e"
      },
      "source": [
        "plot_images(CH1,CH1_smoothed,1)"
      ],
      "execution_count": 29,
      "outputs": [
        {
          "output_type": "display_data",
          "data": {
            "image/png": "[encoded data removed]",
            "text/plain": [
              "<Figure size 1296x432 with 4 Axes>"
            ]
          },
          "metadata": {
            "tags": [],
            "needs_background": "light"
          }
        }
      ]
    },
    {
      "cell_type": "code",
      "metadata": {
        "id": "ONfQ8BAhavGX",
        "colab_type": "code",
        "colab": {
          "base_uri": "https://localhost:8080/",
          "height": 435
        },
        "outputId": "d677f7b4-ba4c-40ff-8e2d-2f4719fe87c4"
      },
      "source": [
        "plot_images(CH2,CH2_smoothed,2)"
      ],
      "execution_count": 30,
      "outputs": [
        {
          "output_type": "display_data",
          "data": {
            "image/png": "[encoded data removed]",
            "text/plain": [
              "<Figure size 1296x432 with 4 Axes>"
            ]
          },
          "metadata": {
            "tags": [],
            "needs_background": "light"
          }
        }
      ]
    },
    {
      "cell_type": "code",
      "metadata": {
        "id": "YeqXB8iadwxI",
        "colab_type": "code",
        "colab": {
          "base_uri": "https://localhost:8080/",
          "height": 202
        },
        "outputId": "25dfaa43-6a9c-47fe-bc05-05a98d55df63"
      },
      "source": [
        "doc_files = [\"Image_ch1_spectralRadiance.dat\",\n",
        "             \"Image_ch2_spectralReflectance.dat\",\n",
        "             \"Image_class_insituLabels.dat\",\n",
        "             \"Image_parameter_insituMeasurements.dat\"]\n",
        "\n",
        "doc_names = [\"Spectral_Radiance\",\n",
        "             \"Spectral_Reflectance\",\n",
        "             \"class\",\n",
        "             \"Temperature [K]\"]\n",
        "\n",
        "def import_files(files,file_names):\n",
        "    results = dict() # dict where to store all the files\n",
        "    for e,files in enumerate(files):\n",
        "        result = list()\n",
        "        file = open(files, 'r', ) # open the file\n",
        "        lines = file.readlines()\n",
        "        for x in lines:\n",
        "            result.append([float(measure.strip()) for measure in x.split('\\t')[:-1]])\n",
        "\n",
        "        results[file_names[e]] = [v for r in result for v in r] #unpack the list of lists\n",
        "            \n",
        "        if file_names[e] == 'class':\n",
        "            results['Class_label'] = ['sea surface' if int(value)==2 \n",
        "              else'cloud particles'\n",
        "                 for value in results['class']] # add class label\n",
        "    file.close()\n",
        "    return results\n",
        "\n",
        "dictionary = import_files(doc_files,doc_names)\n",
        "df_images = pd.DataFrame.from_dict(dictionary)\n",
        "df_images.head()"
      ],
      "execution_count": 32,
      "outputs": [
        {
          "output_type": "execute_result",
          "data": {
            "text/html": [
              "<div>\n",
              "<style scoped>\n",
              "    .dataframe tbody tr th:only-of-type {\n",
              "        vertical-align: middle;\n",
              "    }\n",
              "\n",
              "    .dataframe tbody tr th {\n",
              "        vertical-align: top;\n",
              "    }\n",
              "\n",
              "    .dataframe thead th {\n",
              "        text-align: right;\n",
              "    }\n",
              "</style>\n",
              "<table border=\"1\" class=\"dataframe\">\n",
              "  <thead>\n",
              "    <tr style=\"text-align: right;\">\n",
              "      <th></th>\n",
              "      <th>Spectral_Radiance</th>\n",
              "      <th>Spectral_Reflectance</th>\n",
              "      <th>class</th>\n",
              "      <th>Class_label</th>\n",
              "      <th>Temperature [K]</th>\n",
              "    </tr>\n",
              "  </thead>\n",
              "  <tbody>\n",
              "    <tr>\n",
              "      <th>0</th>\n",
              "      <td>2.068526</td>\n",
              "      <td>0.579204</td>\n",
              "      <td>1.0</td>\n",
              "      <td>cloud particles</td>\n",
              "      <td>277.39425</td>\n",
              "    </tr>\n",
              "    <tr>\n",
              "      <th>1</th>\n",
              "      <td>1.588779</td>\n",
              "      <td>0.725697</td>\n",
              "      <td>1.0</td>\n",
              "      <td>cloud particles</td>\n",
              "      <td>266.11364</td>\n",
              "    </tr>\n",
              "    <tr>\n",
              "      <th>2</th>\n",
              "      <td>2.308740</td>\n",
              "      <td>0.838262</td>\n",
              "      <td>1.0</td>\n",
              "      <td>cloud particles</td>\n",
              "      <td>277.84215</td>\n",
              "    </tr>\n",
              "    <tr>\n",
              "      <th>3</th>\n",
              "      <td>4.651697</td>\n",
              "      <td>0.338762</td>\n",
              "      <td>2.0</td>\n",
              "      <td>sea surface</td>\n",
              "      <td>297.25935</td>\n",
              "    </tr>\n",
              "    <tr>\n",
              "      <th>4</th>\n",
              "      <td>3.197330</td>\n",
              "      <td>0.246227</td>\n",
              "      <td>2.0</td>\n",
              "      <td>sea surface</td>\n",
              "      <td>282.75330</td>\n",
              "    </tr>\n",
              "  </tbody>\n",
              "</table>\n",
              "</div>"
            ],
            "text/plain": [
              "   Spectral_Radiance  Spectral_Reflectance  ...      Class_label Temperature [K]\n",
              "0           2.068526              0.579204  ...  cloud particles       277.39425\n",
              "1           1.588779              0.725697  ...  cloud particles       266.11364\n",
              "2           2.308740              0.838262  ...  cloud particles       277.84215\n",
              "3           4.651697              0.338762  ...      sea surface       297.25935\n",
              "4           3.197330              0.246227  ...      sea surface       282.75330\n",
              "\n",
              "[5 rows x 5 columns]"
            ]
          },
          "metadata": {
            "tags": []
          },
          "execution_count": 32
        }
      ]
    },
    {
      "cell_type": "markdown",
      "metadata": {
        "id": "QuwKujBef6bc",
        "colab_type": "text"
      },
      "source": [
        "7. By using the smoothed channel images, re-perform a Lloyd’s k-means unsupervised\n",
        "classification and then compute the confusion matrix (CM) and Cohen’s index kappa."
      ]
    },
    {
      "cell_type": "code",
      "metadata": {
        "id": "5E4X5O_ddr8T",
        "colab_type": "code",
        "colab": {}
      },
      "source": [
        "smooted = {'CH1_smooted':[v for r in CH1_smooted.tolist() for v in r], \n",
        "           'CH2_smooted':[v for r in CH2_smooted.tolist() for v in r]}\n",
        "df_smooted = pd.concat([pd.DataFrame.from_dict(smooted), df_images.iloc[:,2:]], axis=1)\n",
        "del smooted"
      ],
      "execution_count": 0,
      "outputs": []
    },
    {
      "cell_type": "code",
      "metadata": {
        "id": "R6HMTC2cdr-2",
        "colab_type": "code",
        "colab": {
          "base_uri": "https://localhost:8080/",
          "height": 202
        },
        "outputId": "480c2a79-2648-4a10-b111-8d422e98280c"
      },
      "source": [
        "df_smooted.head()"
      ],
      "execution_count": 34,
      "outputs": [
        {
          "output_type": "execute_result",
          "data": {
            "text/html": [
              "<div>\n",
              "<style scoped>\n",
              "    .dataframe tbody tr th:only-of-type {\n",
              "        vertical-align: middle;\n",
              "    }\n",
              "\n",
              "    .dataframe tbody tr th {\n",
              "        vertical-align: top;\n",
              "    }\n",
              "\n",
              "    .dataframe thead th {\n",
              "        text-align: right;\n",
              "    }\n",
              "</style>\n",
              "<table border=\"1\" class=\"dataframe\">\n",
              "  <thead>\n",
              "    <tr style=\"text-align: right;\">\n",
              "      <th></th>\n",
              "      <th>CH1_smooted</th>\n",
              "      <th>CH2_smooted</th>\n",
              "      <th>class</th>\n",
              "      <th>Class_label</th>\n",
              "      <th>Temperature [K]</th>\n",
              "    </tr>\n",
              "  </thead>\n",
              "  <tbody>\n",
              "    <tr>\n",
              "      <th>0</th>\n",
              "      <td>0.885186</td>\n",
              "      <td>0.317779</td>\n",
              "      <td>1.0</td>\n",
              "      <td>cloud particles</td>\n",
              "      <td>277.39425</td>\n",
              "    </tr>\n",
              "    <tr>\n",
              "      <th>1</th>\n",
              "      <td>1.300592</td>\n",
              "      <td>0.496267</td>\n",
              "      <td>1.0</td>\n",
              "      <td>cloud particles</td>\n",
              "      <td>266.11364</td>\n",
              "    </tr>\n",
              "    <tr>\n",
              "      <th>2</th>\n",
              "      <td>1.729151</td>\n",
              "      <td>0.429425</td>\n",
              "      <td>1.0</td>\n",
              "      <td>cloud particles</td>\n",
              "      <td>277.84215</td>\n",
              "    </tr>\n",
              "    <tr>\n",
              "      <th>3</th>\n",
              "      <td>2.154620</td>\n",
              "      <td>0.323555</td>\n",
              "      <td>2.0</td>\n",
              "      <td>sea surface</td>\n",
              "      <td>297.25935</td>\n",
              "    </tr>\n",
              "    <tr>\n",
              "      <th>4</th>\n",
              "      <td>2.556010</td>\n",
              "      <td>0.180335</td>\n",
              "      <td>2.0</td>\n",
              "      <td>sea surface</td>\n",
              "      <td>282.75330</td>\n",
              "    </tr>\n",
              "  </tbody>\n",
              "</table>\n",
              "</div>"
            ],
            "text/plain": [
              "   CH1_smooted  CH2_smooted  class      Class_label  Temperature [K]\n",
              "0     0.885186     0.317779    1.0  cloud particles        277.39425\n",
              "1     1.300592     0.496267    1.0  cloud particles        266.11364\n",
              "2     1.729151     0.429425    1.0  cloud particles        277.84215\n",
              "3     2.154620     0.323555    2.0      sea surface        297.25935\n",
              "4     2.556010     0.180335    2.0      sea surface        282.75330"
            ]
          },
          "metadata": {
            "tags": []
          },
          "execution_count": 34
        }
      ]
    },
    {
      "cell_type": "code",
      "metadata": {
        "id": "31mdlQCvdsDq",
        "colab_type": "code",
        "colab": {}
      },
      "source": [
        "def k_mean_and_cm(df):\n",
        "    \n",
        "    kmeans = KMeans(n_clusters=2,\n",
        "                    init=\"random\",\n",
        "                    n_init=10,\n",
        "                    max_iter = 20,\n",
        "                    random_state=10,\n",
        "                    n_jobs=-1, \n",
        "                    algorithm='full') \n",
        "    \n",
        "    kmeans.fit(df.iloc[:,:2]) \n",
        "    \n",
        "\n",
        "    predicted_label = ['sea surface' if value== 0.\n",
        "                       else'particle clouds'\n",
        "                       for value in kmeans.labels_.astype(float)] \n",
        "    \n",
        "    df['predicted_label'] = predicted_label \n",
        "    \n",
        "    \n",
        "    true = df['Class_label'] \n",
        "    pred = df['predicted_label'] \n",
        "    cm = confusion_matrix(true,pred) \n",
        "    \n",
        "    return(df,cm)"
      ],
      "execution_count": 0,
      "outputs": []
    },
    {
      "cell_type": "code",
      "metadata": {
        "id": "tUmxoIIkdsB7",
        "colab_type": "code",
        "colab": {}
      },
      "source": [
        "df_smooted, cm_smooted = k_mean_and_cm(df_smooted)"
      ],
      "execution_count": 0,
      "outputs": []
    },
    {
      "cell_type": "code",
      "metadata": {
        "id": "kKxzSZEYdrX8",
        "colab_type": "code",
        "colab": {}
      },
      "source": [
        "def confusion_matrix_plot(cm):\n",
        "\n",
        "    fig = plt.figure(figsize=(7,5))\n",
        "    ax = sns.heatmap(cm, cmap= 'Pastel1', annot=True,annot_kws={\"size\": 20},cbar=False)\n",
        "    ax.set_xticklabels(['sea surface','particle clouds'],size=15)\n",
        "    ax.set_yticklabels(['sea surface','particle clouds'],va='center',size=15)\n",
        "\n",
        "    ax.set(xlabel='Real class')\n",
        "    ax.set(ylabel='Predicted')\n",
        "    ax.yaxis.label.set_size(20)\n",
        "    ax.xaxis.label.set_size(20)\n",
        "    ax.xaxis.label.set_color('black')\n",
        "    ax.yaxis.label.set_color('black')\n",
        "    ax.yaxis.labelpad = 20\n",
        "    ax.xaxis.labelpad = 20\n",
        "    plt.show()\n",
        "\n"
      ],
      "execution_count": 0,
      "outputs": []
    },
    {
      "cell_type": "code",
      "metadata": {
        "id": "xveU2RyNfDy-",
        "colab_type": "code",
        "colab": {
          "base_uri": "https://localhost:8080/",
          "height": 364
        },
        "outputId": "1960df34-1a6f-4bac-9d1a-7b26659bdb72"
      },
      "source": [
        "confusion_matrix_plot(cm_smooted)"
      ],
      "execution_count": 51,
      "outputs": [
        {
          "output_type": "display_data",
          "data": {
            "image/png": "[encoded data removed]",
            "text/plain": [
              "<Figure size 504x360 with 1 Axes>"
            ]
          },
          "metadata": {
            "tags": [],
            "needs_background": "light"
          }
        }
      ]
    },
    {
      "cell_type": "markdown",
      "metadata": {
        "id": "ZtEc947rglvZ",
        "colab_type": "text"
      },
      "source": [
        "8. By using the collocated channel and parameter data, develop a statistical retrieval algorithm\n",
        "(e.g., linear regression) to estimate parameter value from spectral radiance (channel 1) and\n",
        "provide error bias (mean) and standard deviation in kelvins."
      ]
    },
    {
      "cell_type": "code",
      "metadata": {
        "id": "bC5-J6pRfIxo",
        "colab_type": "code",
        "colab": {
          "base_uri": "https://localhost:8080/",
          "height": 35
        },
        "outputId": "2b2715a0-b612-4577-b4be-09286ac841bd"
      },
      "source": [
        "x = df_images.iloc[:,:1]\n",
        "y = df_images.iloc[:,2]\n",
        "\n",
        "linearregression = LinearRegression()\n",
        "linearregression.fit(x,y)"
      ],
      "execution_count": 52,
      "outputs": [
        {
          "output_type": "execute_result",
          "data": {
            "text/plain": [
              "LinearRegression(copy_X=True, fit_intercept=True, n_jobs=None, normalize=False)"
            ]
          },
          "metadata": {
            "tags": []
          },
          "execution_count": 52
        }
      ]
    },
    {
      "cell_type": "code",
      "metadata": {
        "id": "b1SNX38MfI0D",
        "colab_type": "code",
        "colab": {
          "base_uri": "https://localhost:8080/",
          "height": 35
        },
        "outputId": "f5d770b6-fa82-4f45-dd46-ca26a4561a55"
      },
      "source": [
        "linearregression.coef_"
      ],
      "execution_count": 53,
      "outputs": [
        {
          "output_type": "execute_result",
          "data": {
            "text/plain": [
              "array([0.35011448])"
            ]
          },
          "metadata": {
            "tags": []
          },
          "execution_count": 53
        }
      ]
    },
    {
      "cell_type": "code",
      "metadata": {
        "id": "Y9JbbjQwfI3z",
        "colab_type": "code",
        "colab": {
          "base_uri": "https://localhost:8080/",
          "height": 35
        },
        "outputId": "0772f73a-9653-4815-975e-9ab6baaac93a"
      },
      "source": [
        "linearregression.intercept_"
      ],
      "execution_count": 54,
      "outputs": [
        {
          "output_type": "execute_result",
          "data": {
            "text/plain": [
              "0.5108953508346579"
            ]
          },
          "metadata": {
            "tags": []
          },
          "execution_count": 54
        }
      ]
    },
    {
      "cell_type": "code",
      "metadata": {
        "id": "3DT9zLnEfI6A",
        "colab_type": "code",
        "colab": {}
      },
      "source": [
        "ypred = linearregression.predict(df_images.iloc[:,:1])"
      ],
      "execution_count": 0,
      "outputs": []
    },
    {
      "cell_type": "code",
      "metadata": {
        "id": "48Lfp0PPfI2R",
        "colab_type": "code",
        "colab": {
          "base_uri": "https://localhost:8080/",
          "height": 52
        },
        "outputId": "bb30b10b-f9da-46c0-a453-31b424d62399"
      },
      "source": [
        "errors = list()\n",
        "for e,v in enumerate(list(ypred)):\n",
        "    errors.append(abs(v - y.tolist()[e])) # append absolute error to errors list\n",
        "error = np.mean(errors) # compute mean absolute error\n",
        "std = np.sqrt(np.mean([z**2 for z in errors]) - error**2) # compute std\n",
        "print('error: '+str(round(error,2))+' K',\n",
        "     '\\u03C3: '+str(round(std,2))+' K',\n",
        "     sep='\\n')"
      ],
      "execution_count": 56,
      "outputs": [
        {
          "output_type": "stream",
          "text": [
            "error: 0.24 K\n",
            "σ: 0.17 K\n"
          ],
          "name": "stdout"
        }
      ]
    }
  ]
}